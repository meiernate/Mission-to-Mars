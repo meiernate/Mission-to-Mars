{
 "cells": [
  {
   "cell_type": "markdown",
   "id": "07fc40d9",
   "metadata": {},
   "source": [
    "# Deliverable 1\n",
    "## Scrape Titles and Preview Text from Mars News"
   ]
  },
  {
   "cell_type": "code",
   "execution_count": 1,
   "id": "a62169bc",
   "metadata": {},
   "outputs": [],
   "source": [
    "# Import Dependencies \n",
    "from splinter import Browser\n",
    "from bs4 import BeautifulSoup as soup\n",
    "from webdriver_manager.chrome import ChromeDriverManager\n",
    "import pandas as pd"
   ]
  },
  {
   "cell_type": "code",
   "execution_count": 2,
   "id": "6646de94",
   "metadata": {},
   "outputs": [],
   "source": [
    "# Setup executable path and browser for automation\n",
    "executable_path = {'executable_path': ChromeDriverManager().install()}\n",
    "browser = Browser('chrome', **executable_path, headless=False)"
   ]
  },
  {
   "cell_type": "code",
   "execution_count": 3,
   "id": "42b24e4c",
   "metadata": {},
   "outputs": [
    {
     "data": {
      "text/plain": [
       "True"
      ]
     },
     "execution_count": 3,
     "metadata": {},
     "output_type": "execute_result"
    }
   ],
   "source": [
    "# load the mars nasa news site in the browser\n",
    "url = 'https://mars.nasa.gov/news/'\n",
    "browser.visit(url)\n",
    "\n",
    "# delay loading the page before automation\n",
    "browser.is_element_present_by_css(\"ul.item_list li.slide\", wait_time=1)"
   ]
  },
  {
   "cell_type": "markdown",
   "id": "ce8dc310",
   "metadata": {},
   "source": [
    "## Requirements"
   ]
  },
  {
   "cell_type": "code",
   "execution_count": 4,
   "id": "352e30e6",
   "metadata": {},
   "outputs": [],
   "source": [
    "# Requirement 1\n",
    "# Automated browsing (with Splinter) was used to visit the Mars\n",
    "# news site, and the HTML code was extracted (with Beautiful Soup).\n",
    "html = browser.html\n",
    "news_soup = soup(html,'html.parser')\n",
    "news_list = news_soup.select('ul.item_list li.slide')"
   ]
  },
  {
   "cell_type": "code",
   "execution_count": 5,
   "id": "6cf8b3a9",
   "metadata": {},
   "outputs": [],
   "source": [
    "# Requirement 2\n",
    "# The titles and preview text of the news articles were scraped and extracted.\n",
    "articles = []\n",
    "for x in news_list:\n",
    "    articles.append({\n",
    "        \"title\": x.find(\"div\", class_='content_title').get_text(),\n",
    "        \"preview\": x.find('div', class_=\"article_teaser_body\").get_text()\n",
    "    })"
   ]
  },
  {
   "cell_type": "code",
   "execution_count": 6,
   "id": "d992b89c",
   "metadata": {},
   "outputs": [
    {
     "data": {
      "text/plain": [
       "[{'title': \"NASA's MAVEN Observes Martian Light Show Caused by Major Solar Storm\",\n",
       "  'preview': 'For the first time in its eight years orbiting Mars, NASA’s MAVEN mission witnessed two different types of ultraviolet aurorae simultaneously, the result of solar storms that began on Aug. 27.'},\n",
       " {'title': \"NASA Prepares to Say 'Farewell' to InSight Spacecraft\",\n",
       "  'preview': 'A closer look at what goes into wrapping up the mission as the spacecraft’s power supply continues to dwindle.'},\n",
       " {'title': 'NASA and ESA Agree on Next Steps to Return Mars Samples to Earth',\n",
       "  'preview': 'The agency’s Perseverance rover will establish the first sample depot on Mars.'},\n",
       " {'title': \"NASA's InSight Lander Detects Stunning Meteoroid Impact on Mars\",\n",
       "  'preview': 'The agency’s lander felt the ground shake during the impact while cameras aboard the Mars Reconnaissance Orbiter spotted the yawning new crater from space.'},\n",
       " {'title': 'NASA To Host Briefing on InSight, Mars Reconnaissance Orbiter Findings',\n",
       "  'preview': 'Scientists from two Mars missions will discuss how they combined images and data for a major finding on the Red Planet.'},\n",
       " {'title': 'Why NASA Is Trying To Crash Land on Mars',\n",
       "  'preview': 'Like a car’s crumple zone, the experimental SHIELD lander is designed to absorb a hard impact.'},\n",
       " {'title': 'Curiosity Mars Rover Reaches Long-Awaited Salty Region',\n",
       "  'preview': 'After years of climbing, the Mars rover has arrived at a special region believed to have formed as Mars’ climate was drying.'},\n",
       " {'title': 'Mars Mission Shields Up for Tests',\n",
       "  'preview': 'Protecting Mars Sample Return spacecraft from micrometeorites requires high-caliber work.'},\n",
       " {'title': \"NASA's InSight Waits Out Dust Storm\",\n",
       "  'preview': 'InSight’s team is taking steps to help the solar-powered lander continue operating for as long as possible. '},\n",
       " {'title': \"NASA's InSight 'Hears' Its First Meteoroid Impacts on Mars\",\n",
       "  'preview': 'The Mars lander’s seismometer has picked up vibrations from four separate impacts in the past two years.'},\n",
       " {'title': \"NASA's Perseverance Rover Investigates Geologically Rich Mars Terrain\",\n",
       "  'preview': 'The latest findings provide greater detail on a region of the Red Planet that has a watery past and is yielding promising samples for the NASA-ESA Mars Sample Return campaign.'},\n",
       " {'title': 'NASA to Host Briefing on Perseverance Mars Rover Mission Operations',\n",
       "  'preview': 'Members of the mission will discuss the rover’s activities as it gathers samples in an ancient river delta.'},\n",
       " {'title': \"NASA's Perseverance Makes New Discoveries in Mars' Jezero Crater\",\n",
       "  'preview': 'The rover found that Jezero Crater’s floor is made up of volcanic rocks that have interacted with water.'},\n",
       " {'title': \"10 Years Since Landing, NASA's Curiosity Mars Rover Still Has Drive\",\n",
       "  'preview': 'Despite signs of wear, the intrepid spacecraft is about to start an exciting new chapter of its mission as it climbs a Martian mountain.'},\n",
       " {'title': \"SAM's Top 5 Discoveries Aboard NASA's Curiosity Rover at Mars\",\n",
       "  'preview': '“Selfie” of the Curiosity rover with inset showing the SAM instrument prior to installation on the rover.'},\n",
       " {'title': 'NASA Will Inspire World When It Returns Mars Samples to Earth in 2033',\n",
       "  'preview': 'This advanced mission architecture will include two sample recovery helicopters.'},\n",
       " {'title': 'NASA Marks 25 Years Since Pathfinder Touched Down on Mars ',\n",
       "  'preview': 'The newly deployed Sojourner rover – the first of its kind on the Red Planet – sits on the Martian surface after driving down Pathfinder’s ramp.'},\n",
       " {'title': 'NASA, ESA to Discuss Mars Sample Return Mission',\n",
       "  'preview': 'The news briefing will present the architecture proposal that is expected to be finalized in September 2022. '},\n",
       " {'title': \"NASA's Perseverance Scouts Mars Sample Return Campaign Landing Sites\",\n",
       "  'preview': 'The six-wheeled explorer has inspected a stretch of the Red Planet to see if it is flat enough for NASA’s next Mars lander.'},\n",
       " {'title': \"My Favorite Martian Image: 'Enchanted' Rocks at Jezero Crater\",\n",
       "  'preview': 'Not even Obi-Wan Kenobi could convince Perseverance’s Katie Stack Morgan that these are not the rocks she’s looking for.'},\n",
       " {'title': 'Help NASA Scientists Find Clouds on Mars',\n",
       "  'preview': 'By identifying clouds in data collected by NASA’s Mars Reconnaissance Orbiter, the public can increase scientists’ understanding of the Red Planet’s atmosphere.'},\n",
       " {'title': \"NASA's Curiosity Takes Inventory of Key Life Ingredient on Mars\",\n",
       "  'preview': 'Newly published research quantifies the presence of organic carbon in Martian rocks.'},\n",
       " {'title': 'NASA Mars Orbiter Releasing One of Its Last Rainbow-Colored Maps ',\n",
       "  'preview': 'The map, to be released in batches over six months, covers the vast majority of the planet, revealing dozens of minerals found on its surface.'},\n",
       " {'title': \"NASA's Curiosity Captures Stunning Views of a Changing Mars Landscape\",\n",
       "  'preview': 'Striking rock formations documented by the rover provide evidence of a drying climate in the Red Planet’s ancient past.'},\n",
       " {'title': \"NASA's InSight Gets a Few Extra Weeks of Mars Science\",\n",
       "  'preview': 'The mission’s team has chosen to operate its seismometer longer than previously planned, although the lander will run out of power sooner as a result.'},\n",
       " {'title': 'NASA, Partner Establish New Research Group for Mars Sample Return Program',\n",
       "  'preview': 'Sixteen scientists from the U.S., Europe, Canada, and Japan have been chosen to help future samples from the Red Planet achieve their full potential.'},\n",
       " {'title': \"NASA's Perseverance Studies the Wild Winds of Jezero Crater\",\n",
       "  'preview': 'The rover’s weather sensors witnessed daily whirlwinds and more while studying the Red Planet.'},\n",
       " {'title': \"NASA's MAVEN Spacecraft Resumes Science & Operations, Exits Safe Mode\",\n",
       "  'preview': 'NASA’s Mars Atmosphere and Volatile EvolutioN, or MAVEN, mission returned to normal science and relay operations on May 28, 2022, after recovering from an extended safe mode event. '},\n",
       " {'title': \"NASA's Ingenuity Mars Helicopter Captures Video of Record Flight\",\n",
       "  'preview': 'Imagery has come down from Mars capturing a recent flight in which the rotorcraft flew farther and faster than ever before. '},\n",
       " {'title': \"NASA's InSight Still Hunting Marsquakes as Power Levels Diminish\",\n",
       "  'preview': 'Dusty solar panels and darker skies are expected to bring the Mars lander mission to a close around the end of this year.'},\n",
       " {'title': 'NASA to Provide Update on InSight Mars Lander',\n",
       "  'preview': 'NASA and InSight leaders will share the latest on the pioneering spacecraft’s science findings and discuss future milestones for the mission.'},\n",
       " {'title': \"NASA's InSight Records Monster Quake on Mars\",\n",
       "  'preview': 'Estimated to be magnitude 5, the quake is the biggest ever detected on another planet.\\r\\n\\r\\n'},\n",
       " {'title': 'Science at Sunrise: Solving the Mystery of Frost Hiding on Mars ',\n",
       "  'preview': 'A new study using data from NASA’s Mars Odyssey orbiter may explain why Martian frost can be invisible to the naked eye and why dust avalanches appear on some slopes.'},\n",
       " {'title': \"NASA's Mars Helicopter Scouts Ridgeline for Perseverance Science Team\",\n",
       "  'preview': 'The rotorcraft provided rover scientists an aerial perspective of an interesting rocky outcrop.'},\n",
       " {'title': \"NASA's Mars Helicopter Spots Gear That Helped Perseverance Rover Land\",\n",
       "  'preview': 'Eyeing some of the components that enabled the rover to get safely to the Martian surface could provide valuable insights for future missions.'},\n",
       " {'title': 'NASA Extends Exploration for 8 Planetary Science Missions',\n",
       "  'preview': 'Among the missions are InSight, Mars Reconnaissance Orbiter, Mars Odyssey, and Curiosity, all of which have been critical to expanding our understanding of the Red Planet.'},\n",
       " {'title': \"NASA's Perseverance Rover Captures Video of Solar Eclipse on Mars\",\n",
       "  'preview': 'The Mastcam-Z camera recorded video of Phobos, one of the Red Planet’s two moons, to study how its orbit is changing over time.'},\n",
       " {'title': \"NASA's Perseverance Rover Arrives at Delta for New Science Campaign\",\n",
       "  'preview': 'Collecting samples as it explores an ancient and now-dry river channel is but one goal the six-wheeled geologist will pursue during its second Red Planet exploration.'},\n",
       " {'title': 'NASA, UAE Mars Missions Agree to Share Science Data',\n",
       "  'preview': 'NASA’s MAVEN mission and the United Arab Emirates’ Hope Probe mission are paving the way toward greater scientific collaboration and data exchange between the two Mars orbiters.'},\n",
       " {'title': \"NASA's Curiosity Mars Rover Reroutes Away From 'Gator-Back' Rocks\",\n",
       "  'preview': 'To avoid patches of knife-edged rocks, the mission has taken an alternative path up Mount Sharp.'}]"
      ]
     },
     "execution_count": 6,
     "metadata": {},
     "output_type": "execute_result"
    }
   ],
   "source": [
    "# Requirement 3\n",
    "# The scraped information was stored in the specified Python\n",
    "# data structure—specifically, a list of dictionaries.\n",
    "articles"
   ]
  },
  {
   "cell_type": "code",
   "execution_count": 7,
   "id": "144e842f",
   "metadata": {},
   "outputs": [],
   "source": [
    "browser.quit()"
   ]
  }
 ],
 "metadata": {
  "kernelspec": {
   "display_name": "PythonData",
   "language": "python",
   "name": "pythondata"
  },
  "language_info": {
   "codemirror_mode": {
    "name": "ipython",
    "version": 3
   },
   "file_extension": ".py",
   "mimetype": "text/x-python",
   "name": "python",
   "nbconvert_exporter": "python",
   "pygments_lexer": "ipython3",
   "version": "3.7.13"
  }
 },
 "nbformat": 4,
 "nbformat_minor": 5
}
