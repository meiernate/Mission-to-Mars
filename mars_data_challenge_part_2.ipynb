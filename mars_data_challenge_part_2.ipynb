{
 "cells": [
  {
   "cell_type": "markdown",
   "id": "edc32ef2",
   "metadata": {},
   "source": [
    "# Deliverable 2\n",
    "## Scrape and Analyze Mars Weather Data"
   ]
  },
  {
   "cell_type": "code",
   "execution_count": 1,
   "id": "8e592a6d",
   "metadata": {},
   "outputs": [],
   "source": [
    "# Import Dependencies \n",
    "from splinter import Browser\n",
    "from bs4 import BeautifulSoup as soup\n",
    "from webdriver_manager.chrome import ChromeDriverManager\n",
    "import pandas as pd\n",
    "import matplotlib.pyplot as plt"
   ]
  },
  {
   "cell_type": "code",
   "execution_count": 2,
   "id": "2b33d736",
   "metadata": {},
   "outputs": [],
   "source": [
    "# Setup executable path and browser for automation\n",
    "executable_path = {'executable_path': ChromeDriverManager().install()}\n",
    "browser = Browser('chrome', **executable_path, headless=False)"
   ]
  },
  {
   "cell_type": "code",
   "execution_count": 3,
   "id": "57076afa",
   "metadata": {},
   "outputs": [],
   "source": [
    "# load the mars weather table site in the browser\n",
    "url = 'https://data-class-mars-challenge.s3.amazonaws.com/Mars/index.html'\n",
    "browser.visit(url)\n",
    "\n",
    "# delay loading the page before automation\n",
    "browser.is_element_present_by_css(\"main table.table  tr.data-row\", wait_time=1)\n",
    "html = browser.html"
   ]
  },
  {
   "cell_type": "markdown",
   "id": "7e036797",
   "metadata": {},
   "source": [
    "## Requirement 1"
   ]
  },
  {
   "cell_type": "code",
   "execution_count": 4,
   "id": "c4538371",
   "metadata": {},
   "outputs": [],
   "source": [
    "# Either Pandas or Splinter and Beautiful Soup were used to scrape the data.\n",
    "table_soup = soup(html,'html.parser')\n",
    "table_list = table_soup.select('main table.table tr.data-row')\n",
    "\n",
    "table_rows = []\n",
    "for x in table_list:\n",
    "    col = x.findAll(\"td\")\n",
    "    table_rows.append({\n",
    "        \"id\": col[0].get_text(),\n",
    "        \"terrestrial_date\": col[1].get_text(),\n",
    "        \"sol\": col[2].get_text(),\n",
    "        \"ls\": col[3].get_text(),\n",
    "        \"month\": col[4].get_text(),\n",
    "        \"min_temp\": col[5].get_text(),\n",
    "        \"pressure\": col[6].get_text()\n",
    "    })"
   ]
  },
  {
   "cell_type": "code",
   "execution_count": 5,
   "id": "b9287476",
   "metadata": {},
   "outputs": [],
   "source": [
    "# The HTML table was extracted into a Pandas DataFrame.\n",
    "df = pd.DataFrame(table_rows, columns=['id', 'terrestrial_date', 'sol', 'ls', 'month', 'min_temp', 'pressure'])\n",
    "df.set_index('id', inplace=True)"
   ]
  },
  {
   "cell_type": "code",
   "execution_count": 6,
   "id": "41dc9fdb",
   "metadata": {},
   "outputs": [
    {
     "name": "stdout",
     "output_type": "stream",
     "text": [
      "<class 'pandas.core.frame.DataFrame'>\n",
      "Index: 1867 entries, 2 to 1895\n",
      "Data columns (total 6 columns):\n",
      " #   Column            Non-Null Count  Dtype         \n",
      "---  ------            --------------  -----         \n",
      " 0   terrestrial_date  1867 non-null   datetime64[ns]\n",
      " 1   sol               1867 non-null   int32         \n",
      " 2   ls                1867 non-null   int32         \n",
      " 3   month             1867 non-null   int32         \n",
      " 4   min_temp          1867 non-null   float64       \n",
      " 5   pressure          1867 non-null   float64       \n",
      "dtypes: datetime64[ns](1), float64(2), int32(3)\n",
      "memory usage: 80.2+ KB\n"
     ]
    }
   ],
   "source": [
    "# The columns have the correct headings and data types.\n",
    "df['terrestrial_date'] = pd.to_datetime(df['terrestrial_date'])\n",
    "df['sol'] = df['sol'].astype('int')\n",
    "df['ls'] = df['ls'].astype('int')\n",
    "df['month'] = df['month'].astype('int')\n",
    "df['min_temp'] = df['min_temp'].astype('float')\n",
    "df['pressure'] = df['pressure'].astype('float')\n",
    "df.info()"
   ]
  },
  {
   "cell_type": "code",
   "execution_count": 7,
   "id": "db7f6a36",
   "metadata": {},
   "outputs": [
    {
     "data": {
      "text/html": [
       "<div>\n",
       "<style scoped>\n",
       "    .dataframe tbody tr th:only-of-type {\n",
       "        vertical-align: middle;\n",
       "    }\n",
       "\n",
       "    .dataframe tbody tr th {\n",
       "        vertical-align: top;\n",
       "    }\n",
       "\n",
       "    .dataframe thead th {\n",
       "        text-align: right;\n",
       "    }\n",
       "</style>\n",
       "<table border=\"1\" class=\"dataframe\">\n",
       "  <thead>\n",
       "    <tr style=\"text-align: right;\">\n",
       "      <th></th>\n",
       "      <th>terrestrial_date</th>\n",
       "      <th>sol</th>\n",
       "      <th>ls</th>\n",
       "      <th>month</th>\n",
       "      <th>min_temp</th>\n",
       "      <th>pressure</th>\n",
       "    </tr>\n",
       "    <tr>\n",
       "      <th>id</th>\n",
       "      <th></th>\n",
       "      <th></th>\n",
       "      <th></th>\n",
       "      <th></th>\n",
       "      <th></th>\n",
       "      <th></th>\n",
       "    </tr>\n",
       "  </thead>\n",
       "  <tbody>\n",
       "    <tr>\n",
       "      <th>2</th>\n",
       "      <td>2012-08-16</td>\n",
       "      <td>10</td>\n",
       "      <td>155</td>\n",
       "      <td>6</td>\n",
       "      <td>-75.0</td>\n",
       "      <td>739.0</td>\n",
       "    </tr>\n",
       "    <tr>\n",
       "      <th>13</th>\n",
       "      <td>2012-08-17</td>\n",
       "      <td>11</td>\n",
       "      <td>156</td>\n",
       "      <td>6</td>\n",
       "      <td>-76.0</td>\n",
       "      <td>740.0</td>\n",
       "    </tr>\n",
       "    <tr>\n",
       "      <th>24</th>\n",
       "      <td>2012-08-18</td>\n",
       "      <td>12</td>\n",
       "      <td>156</td>\n",
       "      <td>6</td>\n",
       "      <td>-76.0</td>\n",
       "      <td>741.0</td>\n",
       "    </tr>\n",
       "    <tr>\n",
       "      <th>35</th>\n",
       "      <td>2012-08-19</td>\n",
       "      <td>13</td>\n",
       "      <td>157</td>\n",
       "      <td>6</td>\n",
       "      <td>-74.0</td>\n",
       "      <td>732.0</td>\n",
       "    </tr>\n",
       "    <tr>\n",
       "      <th>46</th>\n",
       "      <td>2012-08-20</td>\n",
       "      <td>14</td>\n",
       "      <td>157</td>\n",
       "      <td>6</td>\n",
       "      <td>-74.0</td>\n",
       "      <td>740.0</td>\n",
       "    </tr>\n",
       "    <tr>\n",
       "      <th>...</th>\n",
       "      <td>...</td>\n",
       "      <td>...</td>\n",
       "      <td>...</td>\n",
       "      <td>...</td>\n",
       "      <td>...</td>\n",
       "      <td>...</td>\n",
       "    </tr>\n",
       "    <tr>\n",
       "      <th>1889</th>\n",
       "      <td>2018-02-23</td>\n",
       "      <td>1973</td>\n",
       "      <td>133</td>\n",
       "      <td>5</td>\n",
       "      <td>-78.0</td>\n",
       "      <td>730.0</td>\n",
       "    </tr>\n",
       "    <tr>\n",
       "      <th>1892</th>\n",
       "      <td>2018-02-24</td>\n",
       "      <td>1974</td>\n",
       "      <td>134</td>\n",
       "      <td>5</td>\n",
       "      <td>-77.0</td>\n",
       "      <td>729.0</td>\n",
       "    </tr>\n",
       "    <tr>\n",
       "      <th>1894</th>\n",
       "      <td>2018-02-25</td>\n",
       "      <td>1975</td>\n",
       "      <td>134</td>\n",
       "      <td>5</td>\n",
       "      <td>-76.0</td>\n",
       "      <td>729.0</td>\n",
       "    </tr>\n",
       "    <tr>\n",
       "      <th>1893</th>\n",
       "      <td>2018-02-26</td>\n",
       "      <td>1976</td>\n",
       "      <td>135</td>\n",
       "      <td>5</td>\n",
       "      <td>-77.0</td>\n",
       "      <td>728.0</td>\n",
       "    </tr>\n",
       "    <tr>\n",
       "      <th>1895</th>\n",
       "      <td>2018-02-27</td>\n",
       "      <td>1977</td>\n",
       "      <td>135</td>\n",
       "      <td>5</td>\n",
       "      <td>-77.0</td>\n",
       "      <td>727.0</td>\n",
       "    </tr>\n",
       "  </tbody>\n",
       "</table>\n",
       "<p>1867 rows × 6 columns</p>\n",
       "</div>"
      ],
      "text/plain": [
       "     terrestrial_date   sol   ls  month  min_temp  pressure\n",
       "id                                                         \n",
       "2          2012-08-16    10  155      6     -75.0     739.0\n",
       "13         2012-08-17    11  156      6     -76.0     740.0\n",
       "24         2012-08-18    12  156      6     -76.0     741.0\n",
       "35         2012-08-19    13  157      6     -74.0     732.0\n",
       "46         2012-08-20    14  157      6     -74.0     740.0\n",
       "...               ...   ...  ...    ...       ...       ...\n",
       "1889       2018-02-23  1973  133      5     -78.0     730.0\n",
       "1892       2018-02-24  1974  134      5     -77.0     729.0\n",
       "1894       2018-02-25  1975  134      5     -76.0     729.0\n",
       "1893       2018-02-26  1976  135      5     -77.0     728.0\n",
       "1895       2018-02-27  1977  135      5     -77.0     727.0\n",
       "\n",
       "[1867 rows x 6 columns]"
      ]
     },
     "execution_count": 7,
     "metadata": {},
     "output_type": "execute_result"
    }
   ],
   "source": [
    "df"
   ]
  },
  {
   "cell_type": "markdown",
   "id": "1b50c54b",
   "metadata": {},
   "source": [
    "## Requirement 2\n",
    "\n",
    "The data was analyzed to answer the following questions, and a data visualization was created to support each answer."
   ]
  },
  {
   "cell_type": "code",
   "execution_count": 8,
   "id": "16a1ea31",
   "metadata": {},
   "outputs": [
    {
     "data": {
      "text/plain": [
       "12"
      ]
     },
     "execution_count": 8,
     "metadata": {},
     "output_type": "execute_result"
    }
   ],
   "source": [
    "# How many months exist on Mars?\n",
    "df['month'].max()"
   ]
  },
  {
   "cell_type": "code",
   "execution_count": 9,
   "id": "2fce241f",
   "metadata": {},
   "outputs": [
    {
     "data": {
      "text/plain": [
       "1867"
      ]
     },
     "execution_count": 9,
     "metadata": {},
     "output_type": "execute_result"
    }
   ],
   "source": [
    "# How many Martian (and not Earth) days worth of data exist in the scraped dataset?\n",
    "df['sol'].nunique()"
   ]
  },
  {
   "cell_type": "code",
   "execution_count": 10,
   "id": "9193dd9e",
   "metadata": {},
   "outputs": [
    {
     "name": "stdout",
     "output_type": "stream",
     "text": [
      "The coldest was month number 3 , with an average of -83 celsius. \n",
      "The warmest was month number 8 , with an average of -68 celsius.\n"
     ]
    },
    {
     "data": {
      "image/png": "[encoded data removed]",
      "text/plain": [
       "<Figure size 432x288 with 1 Axes>"
      ]
     },
     "metadata": {
      "needs_background": "light"
     },
     "output_type": "display_data"
    }
   ],
   "source": [
    "# What are the coldest and the warmest months on Mars?\n",
    "\n",
    "# Get the answer by averaging the minimum daily temperature of all the months.\n",
    "monthly_mean = df.groupby('month').mean().reset_index()\n",
    "month_min_temp = monthly_mean.loc[monthly_mean['min_temp'] == monthly_mean['min_temp'].min(),['month','min_temp']]\n",
    "month_max_temp = monthly_mean.loc[monthly_mean['min_temp'] == monthly_mean['min_temp'].max(),['month','min_temp']]\n",
    "\n",
    "print(\n",
    "    'The coldest was month number', int(month_min_temp.to_numpy()[0][0]),\n",
    "    ', with an average of', int(month_min_temp.to_numpy()[0][1]), 'celsius.',\n",
    "    '\\nThe warmest was month number', int(month_max_temp.to_numpy()[0][0]),\n",
    "    ', with an average of', int(month_max_temp.to_numpy()[0][1]), 'celsius.',\n",
    ")\n",
    "\n",
    "# Plot the results as a bar chart.\n",
    "plt.bar(monthly_mean['month'],monthly_mean['min_temp'])\n",
    "plt.xlabel('Month')\n",
    "plt.ylabel('Temp (Celsius)')\n",
    "plt.title(\"Mars Average Temperature\")\n",
    "tick_locations = [value for value in monthly_mean['month']]\n",
    "plt.xticks(tick_locations)\n",
    "plt.show()"
   ]
  },
  {
   "cell_type": "code",
   "execution_count": 11,
   "id": "b825aba8",
   "metadata": {},
   "outputs": [
    {
     "name": "stdout",
     "output_type": "stream",
     "text": [
      "The lowest atmospheric pressure was in month number 6 , with an average of 745 . \n",
      "The highest atmospheric pressure was in month number 9 , with an average of 913 .\n"
     ]
    },
    {
     "data": {
      "image/png": "[encoded data removed]",
      "text/plain": [
       "<Figure size 432x288 with 1 Axes>"
      ]
     },
     "metadata": {
      "needs_background": "light"
     },
     "output_type": "display_data"
    }
   ],
   "source": [
    "# Which months have the lowest and the highest atmospheric pressure on Mars?\n",
    "\n",
    "# Get the answer by averaging the daily atmospheric pressure of all the months.\n",
    "month_min_pressure = monthly_mean.loc[monthly_mean['pressure'] == monthly_mean['pressure'].min(),['month','pressure']]\n",
    "month_max_pressure = monthly_mean.loc[monthly_mean['pressure'] == monthly_mean['pressure'].max(),['month','pressure']]\n",
    "\n",
    "print(\n",
    "    'The lowest atmospheric pressure was in month number', int(month_min_pressure.to_numpy()[0][0]),\n",
    "    ', with an average of', int(month_min_pressure.to_numpy()[0][1]), '.',\n",
    "    '\\nThe highest atmospheric pressure was in month number', int(month_max_pressure.to_numpy()[0][0]),\n",
    "    ', with an average of', int(month_max_pressure.to_numpy()[0][1]), '.'\n",
    ")\n",
    "\n",
    "# Plot the results as a bar chart.\n",
    "plt.bar(monthly_mean['month'],monthly_mean['pressure'])\n",
    "plt.xlabel('Month')\n",
    "plt.ylabel('Pressure')\n",
    "plt.title(\"Mars Average Pressure\")\n",
    "tick_locations = [value for value in monthly_mean['month']]\n",
    "plt.xticks(tick_locations)\n",
    "plt.show()"
   ]
  },
  {
   "cell_type": "code",
   "execution_count": 12,
   "id": "dc8ab27e",
   "metadata": {},
   "outputs": [
    {
     "name": "stdout",
     "output_type": "stream",
     "text": [
      "One year on mars is approximately 685 days 00:00:00 days on earth.\n"
     ]
    },
    {
     "data": {
      "image/png": "[encoded data removed]",
      "text/plain": [
       "<Figure size 432x288 with 1 Axes>"
      ]
     },
     "metadata": {
      "needs_background": "light"
     },
     "output_type": "display_data"
    }
   ],
   "source": [
    "# About how many terrestrial (Earth) days exist in a Martian year?\n",
    "\n",
    "# That is, in the time that Mars circles the Sun once, how many days elapse on Earth?\n",
    "start_date_df = df.loc[df['ls'] == df['ls'].min()]\n",
    "start_date_df = start_date_df.iloc[0]['terrestrial_date']\n",
    "end_date_df = df.loc[df['ls'] == df['ls'].max()]\n",
    "end_date_df = end_date_df.loc[end_date_df['terrestrial_date'] > start_date_df]\n",
    "end_date_df = end_date_df.iloc[0]['terrestrial_date']\n",
    "\n",
    "print('One year on mars is approximately', end_date_df - start_date_df, 'days on earth.')\n",
    "\n",
    "# Visually estimate the result by plotting the daily minimum temperature.\n",
    "plt.plot(df['terrestrial_date'], df['min_temp'])\n",
    "plt.xlabel('Terrestrial Date')\n",
    "plt.ylabel('Temperature')\n",
    "plt.title('Temperature Timeline')\n",
    "plt.show()"
   ]
  },
  {
   "cell_type": "markdown",
   "id": "761b4d74",
   "metadata": {},
   "source": [
    "## Requirement 3"
   ]
  },
  {
   "cell_type": "code",
   "execution_count": 13,
   "id": "025378a8",
   "metadata": {},
   "outputs": [],
   "source": [
    "# Export the DataFrame to a CSV file.\n",
    "output_data_file = 'mars_html_dataframe.csv'\n",
    "df.to_csv(output_data_file, encoding = 'utf8', index = False)"
   ]
  },
  {
   "cell_type": "code",
   "execution_count": 14,
   "id": "d9cf7c17",
   "metadata": {},
   "outputs": [],
   "source": [
    "browser.quit()"
   ]
  }
 ],
 "metadata": {
  "kernelspec": {
   "display_name": "PythonData",
   "language": "python",
   "name": "pythondata"
  },
  "language_info": {
   "codemirror_mode": {
    "name": "ipython",
    "version": 3
   },
   "file_extension": ".py",
   "mimetype": "text/x-python",
   "name": "python",
   "nbconvert_exporter": "python",
   "pygments_lexer": "ipython3",
   "version": "3.7.13"
  }
 },
 "nbformat": 4,
 "nbformat_minor": 5
}
